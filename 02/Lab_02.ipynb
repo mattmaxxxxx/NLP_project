{
 "cells": [
  {
   "cell_type": "markdown",
   "metadata": {
    "tags": []
   },
   "source": [
    "#                                                                                     Lab n°2"
   ]
  },
  {
   "cell_type": "markdown",
   "metadata": {},
   "source": [
    "## Data Import"
   ]
  },
  {
   "cell_type": "code",
   "execution_count": 44,
   "metadata": {},
   "outputs": [
    {
     "name": "stderr",
     "output_type": "stream",
     "text": [
      "[nltk_data] Downloading package stopwords to\n",
      "[nltk_data]     C:\\Users\\PION\\AppData\\Roaming\\nltk_data...\n",
      "[nltk_data]   Package stopwords is already up-to-date!\n",
      "[nltk_data] Downloading package punkt to\n",
      "[nltk_data]     C:\\Users\\PION\\AppData\\Roaming\\nltk_data...\n",
      "[nltk_data]   Package punkt is already up-to-date!\n"
     ]
    }
   ],
   "source": [
    "# Library import\n",
    "from datasets import load_dataset\n",
    "from string import punctuation\n",
    "from heapq import nlargest\n",
    "import re\n",
    "import pandas as pd\n",
    "\n",
    "import nltk\n",
    "nltk.download('stopwords')\n",
    "nltk.download('punkt')\n",
    "from nltk.tokenize import sent_tokenize, word_tokenize\n",
    "from nltk.corpus import stopwords\n",
    "from nltk.stem.snowball import SnowballStemmer\n",
    "from nltk.tokenize import word_tokenize "
   ]
  },
  {
   "cell_type": "code",
   "execution_count": 2,
   "metadata": {},
   "outputs": [
    {
     "name": "stderr",
     "output_type": "stream",
     "text": [
      "Reusing dataset imdb (C:\\Users\\PION\\.cache\\huggingface\\datasets\\imdb\\plain_text\\1.0.0\\e3c66f1788a67a89c7058d97ff62b6c30531e05b549de56d3ab91891f0561f9a)\n",
      "Reusing dataset imdb (C:\\Users\\PION\\.cache\\huggingface\\datasets\\imdb\\plain_text\\1.0.0\\e3c66f1788a67a89c7058d97ff62b6c30531e05b549de56d3ab91891f0561f9a)\n"
     ]
    }
   ],
   "source": [
    "# Dataset used for this lab\n",
    "train_dataset = load_dataset(\"imdb\", split=\"train\").to_pandas()\n",
    "test_dataset = load_dataset(\"imdb\", split=\"test\").to_pandas()\n",
    "Accuracy = [] # list of all accuracy\n",
    "Names = [] #List of names"
   ]
  },
  {
   "cell_type": "markdown",
   "metadata": {},
   "source": [
    "1) How many splits does the dataset has? (1 point)"
   ]
  },
  {
   "cell_type": "markdown",
   "metadata": {},
   "source": [
    "The Dataset has 3 split, a train split, a test split and a split containing unlabelized image"
   ]
  },
  {
   "cell_type": "markdown",
   "metadata": {},
   "source": [
    "2) How big are these splits? (1 point)"
   ]
  },
  {
   "cell_type": "markdown",
   "metadata": {},
   "source": [
    "The train split has 25000 reviews, the unsupervised split has 50000 reviews and the test split has 25000 reviews.\n",
    "Since the unsupervised split is irrelevant we didn't downloaded it"
   ]
  },
  {
   "cell_type": "markdown",
   "metadata": {},
   "source": [
    "3) What is the proportion of each class on the supervised splits? (1 point)"
   ]
  },
  {
   "cell_type": "markdown",
   "metadata": {},
   "source": [
    "There is a 50/50 repartition between positive reviews (i.e 1) and negative reviews (i.e 0) in both supervised splits. For each splits and each class there are 12500 reviews."
   ]
  },
  {
   "cell_type": "code",
   "execution_count": 3,
   "metadata": {},
   "outputs": [
    {
     "data": {
      "text/html": [
       "<div>\n",
       "<style scoped>\n",
       "    .dataframe tbody tr th:only-of-type {\n",
       "        vertical-align: middle;\n",
       "    }\n",
       "\n",
       "    .dataframe tbody tr th {\n",
       "        vertical-align: top;\n",
       "    }\n",
       "\n",
       "    .dataframe thead th {\n",
       "        text-align: right;\n",
       "    }\n",
       "</style>\n",
       "<table border=\"1\" class=\"dataframe\">\n",
       "  <thead>\n",
       "    <tr style=\"text-align: right;\">\n",
       "      <th></th>\n",
       "      <th>text</th>\n",
       "    </tr>\n",
       "    <tr>\n",
       "      <th>label</th>\n",
       "      <th></th>\n",
       "    </tr>\n",
       "  </thead>\n",
       "  <tbody>\n",
       "    <tr>\n",
       "      <th>0</th>\n",
       "      <td>12500</td>\n",
       "    </tr>\n",
       "    <tr>\n",
       "      <th>1</th>\n",
       "      <td>12500</td>\n",
       "    </tr>\n",
       "  </tbody>\n",
       "</table>\n",
       "</div>"
      ],
      "text/plain": [
       "        text\n",
       "label       \n",
       "0      12500\n",
       "1      12500"
      ]
     },
     "execution_count": 3,
     "metadata": {},
     "output_type": "execute_result"
    }
   ],
   "source": [
    "train_dataset.groupby('label').count()"
   ]
  },
  {
   "cell_type": "code",
   "execution_count": 4,
   "metadata": {},
   "outputs": [
    {
     "data": {
      "text/html": [
       "<div>\n",
       "<style scoped>\n",
       "    .dataframe tbody tr th:only-of-type {\n",
       "        vertical-align: middle;\n",
       "    }\n",
       "\n",
       "    .dataframe tbody tr th {\n",
       "        vertical-align: top;\n",
       "    }\n",
       "\n",
       "    .dataframe thead th {\n",
       "        text-align: right;\n",
       "    }\n",
       "</style>\n",
       "<table border=\"1\" class=\"dataframe\">\n",
       "  <thead>\n",
       "    <tr style=\"text-align: right;\">\n",
       "      <th></th>\n",
       "      <th>text</th>\n",
       "    </tr>\n",
       "    <tr>\n",
       "      <th>label</th>\n",
       "      <th></th>\n",
       "    </tr>\n",
       "  </thead>\n",
       "  <tbody>\n",
       "    <tr>\n",
       "      <th>0</th>\n",
       "      <td>12500</td>\n",
       "    </tr>\n",
       "    <tr>\n",
       "      <th>1</th>\n",
       "      <td>12500</td>\n",
       "    </tr>\n",
       "  </tbody>\n",
       "</table>\n",
       "</div>"
      ],
      "text/plain": [
       "        text\n",
       "label       \n",
       "0      12500\n",
       "1      12500"
      ]
     },
     "execution_count": 4,
     "metadata": {},
     "output_type": "execute_result"
    }
   ],
   "source": [
    "test_dataset.groupby('label').count()"
   ]
  },
  {
   "cell_type": "markdown",
   "metadata": {},
   "source": [
    "## Pre treatment"
   ]
  },
  {
   "cell_type": "markdown",
   "metadata": {},
   "source": [
    "1. (2 points) Take a look at the data and create an adapted preprocessing function which at least"
   ]
  },
  {
   "cell_type": "markdown",
   "metadata": {},
   "source": [
    "NB : The next portion of code can take some time to run "
   ]
  },
  {
   "cell_type": "code",
   "execution_count": 6,
   "metadata": {
    "collapsed": false,
    "jupyter": {
     "outputs_hidden": false
    },
    "pycharm": {
     "name": "#%%\n"
    }
   },
   "outputs": [
    {
     "name": "stderr",
     "output_type": "stream",
     "text": [
      "C:\\Users\\PION\\AppData\\Local\\Temp\\ipykernel_19144\\2588687814.py:11: FutureWarning: The default value of regex will change from True to False in a future version.\n",
      "  data['text'] = data['text'].str.replace('[{}]'.format(punctuation),'')\n",
      "C:\\Users\\PION\\AppData\\Local\\Temp\\ipykernel_19144\\2588687814.py:11: FutureWarning: The default value of regex will change from True to False in a future version.\n",
      "  data['text'] = data['text'].str.replace('[{}]'.format(punctuation),'')\n"
     ]
    }
   ],
   "source": [
    "def pre_treatment(data):\n",
    "    '''Clean the dataset (lowercase, remove punctuation and stopwords) and apply steamming\n",
    "    Args:\n",
    "        data : The datatset\n",
    "    '''\n",
    "    stops = set(stopwords.words('english'))\n",
    "    stemmer = SnowballStemmer(\"english\")\n",
    "    re_word = re.compile(r\"^\\w+$\")\n",
    "    data['text'] = data['text'].str.lower()\n",
    "    data['text'] = data['text'].str.replace(\"<br/>\",\"\")\n",
    "    data['text'] = data['text'].str.replace('[{}]'.format(punctuation),'')\n",
    "    data['text_no_stop'] = data['text'].apply(lambda x: ' '.join([word for word in x.split() if word not in (stops)]))\n",
    "    data['text_steam'] = data['text'].apply(lambda x: ' '.join([stemmer.stem(word) for word in word_tokenize(x) if re_word.match(word)]))\n",
    "    data['text_steam_stop_word'] = data['text_no_stop'].apply(lambda x: ' '.join([stemmer.stem(word) for word in word_tokenize(x) if re_word.match(word)])) #to test both\n",
    "pre_treatment(test_dataset)\n",
    "pre_treatment(train_dataset)"
   ]
  },
  {
   "cell_type": "markdown",
   "metadata": {},
   "source": [
    "## Creation of our model"
   ]
  },
  {
   "cell_type": "markdown",
   "metadata": {},
   "source": [
    "Importation of library for our model"
   ]
  },
  {
   "cell_type": "code",
   "execution_count": 7,
   "metadata": {},
   "outputs": [],
   "source": [
    "#Creating our model\n",
    "import sklearn\n",
    "from sklearn.pipeline import Pipeline\n",
    "from sklearn.feature_extraction.text import CountVectorizer\n",
    "from sklearn.feature_extraction.text import TfidfVectorizer\n",
    "#TfidfVectorizer is capable of doing both word count vectorization and IDF calculations.\n",
    "from sklearn.naive_bayes import MultinomialNB\n",
    "\n",
    "from sklearn import metrics\n",
    "from sklearn.metrics import accuracy_score\n",
    "import numpy as np\n",
    "import matplotlib.pyplot as plt"
   ]
  },
  {
   "cell_type": "markdown",
   "metadata": {},
   "source": [
    "2. (4 points) Implement and train a naive Bayes classifier on the training data"
   ]
  },
  {
   "cell_type": "code",
   "execution_count": 8,
   "metadata": {},
   "outputs": [],
   "source": [
    "text_pip = Pipeline([('vect', CountVectorizer()), ('clf', MultinomialNB()) ])"
   ]
  },
  {
   "cell_type": "code",
   "execution_count": 9,
   "metadata": {},
   "outputs": [],
   "source": [
    "def prediction(data,col):\n",
    "    \"\"\"compute the prediction and show the confusion matrix\n",
    "    Args:\n",
    "        data: The Dataset\n",
    "        col: The column to use for our prediction\n",
    "    Return:\n",
    "        The list of predictions that will be used to calculate the accuracy\n",
    "    \"\"\"\n",
    "    text_pip.fit(train_dataset[col],train_dataset['label'])\n",
    "    pred = text_pip.predict(data[col])\n",
    "    metrics.plot_confusion_matrix(text_pip,data[col],data['label'])\n",
    "    plt.show()\n",
    "    return pred"
   ]
  },
  {
   "cell_type": "code",
   "execution_count": 10,
   "metadata": {},
   "outputs": [
    {
     "name": "stderr",
     "output_type": "stream",
     "text": [
      "C:\\Users\\PION\\anaconda3\\envs\\PYTORCH\\lib\\site-packages\\sklearn\\utils\\deprecation.py:87: FutureWarning: Function plot_confusion_matrix is deprecated; Function `plot_confusion_matrix` is deprecated in 1.0 and will be removed in 1.2. Use one of the class methods: ConfusionMatrixDisplay.from_predictions or ConfusionMatrixDisplay.from_estimator.\n",
      "  warnings.warn(msg, category=FutureWarning)\n"
     ]
    },
    {
     "data": {
      "image/png": "[encoded data removed]",
      "text/plain": [
       "<Figure size 640x480 with 2 Axes>"
      ]
     },
     "metadata": {},
     "output_type": "display_data"
    }
   ],
   "source": [
    "pred_test = prediction(test_dataset,'text')"
   ]
  },
  {
   "cell_type": "code",
   "execution_count": 11,
   "metadata": {},
   "outputs": [
    {
     "name": "stderr",
     "output_type": "stream",
     "text": [
      "C:\\Users\\PION\\anaconda3\\envs\\PYTORCH\\lib\\site-packages\\sklearn\\utils\\deprecation.py:87: FutureWarning: Function plot_confusion_matrix is deprecated; Function `plot_confusion_matrix` is deprecated in 1.0 and will be removed in 1.2. Use one of the class methods: ConfusionMatrixDisplay.from_predictions or ConfusionMatrixDisplay.from_estimator.\n",
      "  warnings.warn(msg, category=FutureWarning)\n"
     ]
    },
    {
     "data": {
      "image/png": "[encoded data removed]",
      "text/plain": [
       "<Figure size 640x480 with 2 Axes>"
      ]
     },
     "metadata": {},
     "output_type": "display_data"
    }
   ],
   "source": [
    "pred_train =  prediction(train_dataset,'text')"
   ]
  },
  {
   "cell_type": "markdown",
   "metadata": {},
   "source": [
    "3. (1 point) Report the accuracy on both training and test set ?"
   ]
  },
  {
   "cell_type": "code",
   "execution_count": 12,
   "metadata": {},
   "outputs": [
    {
     "name": "stdout",
     "output_type": "stream",
     "text": [
      "Accuracy is 0.81728\n",
      "Accuracy is 0.91284\n"
     ]
    }
   ],
   "source": [
    "print('Accuracy is ' + str(np.mean(pred_test == test_dataset.label)))\n",
    "Accuracy.append(str(np.mean(pred_test == test_dataset.label)))\n",
    "Names.append('test')\n",
    "print('Accuracy is ' + str(np.mean(pred_train == train_dataset.label)))\n",
    "Accuracy.append(str(np.mean(pred_train == train_dataset.label)))\n",
    "Names.append('train')"
   ]
  },
  {
   "cell_type": "markdown",
   "metadata": {},
   "source": [
    "4. (1 point) Why is accuracy a sufficient measure of evaluation here?"
   ]
  },
  {
   "cell_type": "markdown",
   "metadata": {},
   "source": [
    "The accuracy is a good measure in our case since our dataset is well balanced. Each type of label has a similar amount of data allowing a better representation"
   ]
  },
  {
   "cell_type": "markdown",
   "metadata": {},
   "source": [
    "5. [Bonus] What are the top 10 most important words (features) for each class?"
   ]
  },
  {
   "cell_type": "markdown",
   "metadata": {
    "tags": []
   },
   "source": [
    "## Most important word"
   ]
  },
  {
   "cell_type": "code",
   "execution_count": 13,
   "metadata": {},
   "outputs": [
    {
     "name": "stdout",
     "output_type": "stream",
     "text": [
      "the\n",
      "and\n",
      "of\n",
      "to\n",
      "is\n",
      "in\n",
      "this\n",
      "it\n",
      "that\n",
      "br\n"
     ]
    },
    {
     "name": "stderr",
     "output_type": "stream",
     "text": [
      "C:\\Users\\PION\\anaconda3\\envs\\PYTORCH\\lib\\site-packages\\sklearn\\utils\\deprecation.py:87: FutureWarning: Function get_feature_names is deprecated; get_feature_names is deprecated in 1.0 and will be removed in 1.2. Please use get_feature_names_out instead.\n",
      "  warnings.warn(msg, category=FutureWarning)\n"
     ]
    }
   ],
   "source": [
    "def most_important_word():\n",
    "    \"\"\" Show the words that have the most impact\n",
    "    \"\"\"\n",
    "    wordscount = text_pip[0].get_feature_names()\n",
    "    importance = text_pip[1].feature_log_prob_\n",
    "    nb=10\n",
    "    nmax = nlargest(nb, enumerate(importance[0]), key=lambda x:x[1])\n",
    "    i=0\n",
    "    while i < nb:\n",
    "        print(wordscount[nmax[i][0]])\n",
    "        i = i+1\n",
    "most_important_word()"
   ]
  },
  {
   "cell_type": "markdown",
   "metadata": {},
   "source": [
    "The most important words are useless small words. To resolve this problem we will remove them from every text."
   ]
  },
  {
   "cell_type": "markdown",
   "metadata": {},
   "source": [
    "## Removing of the stops words"
   ]
  },
  {
   "cell_type": "markdown",
   "metadata": {},
   "source": [
    "This part has been added in the preprocessing part with the column \"text_no_stop\""
   ]
  },
  {
   "cell_type": "code",
   "execution_count": 14,
   "metadata": {},
   "outputs": [
    {
     "data": {
      "text/html": [
       "<div>\n",
       "<style scoped>\n",
       "    .dataframe tbody tr th:only-of-type {\n",
       "        vertical-align: middle;\n",
       "    }\n",
       "\n",
       "    .dataframe tbody tr th {\n",
       "        vertical-align: top;\n",
       "    }\n",
       "\n",
       "    .dataframe thead th {\n",
       "        text-align: right;\n",
       "    }\n",
       "</style>\n",
       "<table border=\"1\" class=\"dataframe\">\n",
       "  <thead>\n",
       "    <tr style=\"text-align: right;\">\n",
       "      <th></th>\n",
       "      <th>text</th>\n",
       "      <th>label</th>\n",
       "      <th>text_no_stop</th>\n",
       "      <th>text_steam</th>\n",
       "      <th>text_steam_stop_word</th>\n",
       "    </tr>\n",
       "  </thead>\n",
       "  <tbody>\n",
       "    <tr>\n",
       "      <th>0</th>\n",
       "      <td>bromwell high is a cartoon comedy it ran at th...</td>\n",
       "      <td>1</td>\n",
       "      <td>bromwell high cartoon comedy ran time programs...</td>\n",
       "      <td>bromwel high is a cartoon comedi it ran at the...</td>\n",
       "      <td>bromwel high cartoon comedi ran time program s...</td>\n",
       "    </tr>\n",
       "    <tr>\n",
       "      <th>1</th>\n",
       "      <td>homelessness or houselessness as george carlin...</td>\n",
       "      <td>1</td>\n",
       "      <td>homelessness houselessness george carlin state...</td>\n",
       "      <td>homeless or houseless as georg carlin state ha...</td>\n",
       "      <td>homeless houseless georg carlin state issu yea...</td>\n",
       "    </tr>\n",
       "    <tr>\n",
       "      <th>2</th>\n",
       "      <td>brilliant overacting by lesley ann warren best...</td>\n",
       "      <td>1</td>\n",
       "      <td>brilliant overacting lesley ann warren best dr...</td>\n",
       "      <td>brilliant overact by lesley ann warren best dr...</td>\n",
       "      <td>brilliant overact lesley ann warren best drama...</td>\n",
       "    </tr>\n",
       "    <tr>\n",
       "      <th>3</th>\n",
       "      <td>this is easily the most underrated film inn th...</td>\n",
       "      <td>1</td>\n",
       "      <td>easily underrated film inn brooks cannon sure ...</td>\n",
       "      <td>this is easili the most underr film inn the br...</td>\n",
       "      <td>easili underr film inn brook cannon sure flaw ...</td>\n",
       "    </tr>\n",
       "    <tr>\n",
       "      <th>4</th>\n",
       "      <td>this is not the typical mel brooks film it was...</td>\n",
       "      <td>1</td>\n",
       "      <td>typical mel brooks film much less slapstick mo...</td>\n",
       "      <td>this is not the typic mel brook film it was mu...</td>\n",
       "      <td>typic mel brook film much less slapstick movi ...</td>\n",
       "    </tr>\n",
       "    <tr>\n",
       "      <th>...</th>\n",
       "      <td>...</td>\n",
       "      <td>...</td>\n",
       "      <td>...</td>\n",
       "      <td>...</td>\n",
       "      <td>...</td>\n",
       "    </tr>\n",
       "    <tr>\n",
       "      <th>24995</th>\n",
       "      <td>towards the end of the movie i felt it was too...</td>\n",
       "      <td>0</td>\n",
       "      <td>towards end movie felt technical felt like cla...</td>\n",
       "      <td>toward the end of the movi i felt it was too t...</td>\n",
       "      <td>toward end movi felt technic felt like classro...</td>\n",
       "    </tr>\n",
       "    <tr>\n",
       "      <th>24996</th>\n",
       "      <td>this is the kind of movie that my enemies cont...</td>\n",
       "      <td>0</td>\n",
       "      <td>kind movie enemies content watch time bloody t...</td>\n",
       "      <td>this is the kind of movi that my enemi content...</td>\n",
       "      <td>kind movi enemi content watch time bloodi true...</td>\n",
       "    </tr>\n",
       "    <tr>\n",
       "      <th>24997</th>\n",
       "      <td>i saw descent last night at the stockholm film...</td>\n",
       "      <td>0</td>\n",
       "      <td>saw descent last night stockholm film festival...</td>\n",
       "      <td>i saw descent last night at the stockholm film...</td>\n",
       "      <td>saw descent last night stockholm film festiv o...</td>\n",
       "    </tr>\n",
       "    <tr>\n",
       "      <th>24998</th>\n",
       "      <td>some films that you pick up for a pound turn o...</td>\n",
       "      <td>0</td>\n",
       "      <td>films pick pound turn rather good 23rd century...</td>\n",
       "      <td>some film that you pick up for a pound turn ou...</td>\n",
       "      <td>film pick pound turn rather good 23rd centuri ...</td>\n",
       "    </tr>\n",
       "    <tr>\n",
       "      <th>24999</th>\n",
       "      <td>this is one of the dumbest films ive ever seen...</td>\n",
       "      <td>0</td>\n",
       "      <td>one dumbest films ive ever seen rips nearly ev...</td>\n",
       "      <td>this is one of the dumbest film ive ever seen ...</td>\n",
       "      <td>one dumbest film ive ever seen rip near ever t...</td>\n",
       "    </tr>\n",
       "  </tbody>\n",
       "</table>\n",
       "<p>25000 rows × 5 columns</p>\n",
       "</div>"
      ],
      "text/plain": [
       "                                                    text  label  \\\n",
       "0      bromwell high is a cartoon comedy it ran at th...      1   \n",
       "1      homelessness or houselessness as george carlin...      1   \n",
       "2      brilliant overacting by lesley ann warren best...      1   \n",
       "3      this is easily the most underrated film inn th...      1   \n",
       "4      this is not the typical mel brooks film it was...      1   \n",
       "...                                                  ...    ...   \n",
       "24995  towards the end of the movie i felt it was too...      0   \n",
       "24996  this is the kind of movie that my enemies cont...      0   \n",
       "24997  i saw descent last night at the stockholm film...      0   \n",
       "24998  some films that you pick up for a pound turn o...      0   \n",
       "24999  this is one of the dumbest films ive ever seen...      0   \n",
       "\n",
       "                                            text_no_stop  \\\n",
       "0      bromwell high cartoon comedy ran time programs...   \n",
       "1      homelessness houselessness george carlin state...   \n",
       "2      brilliant overacting lesley ann warren best dr...   \n",
       "3      easily underrated film inn brooks cannon sure ...   \n",
       "4      typical mel brooks film much less slapstick mo...   \n",
       "...                                                  ...   \n",
       "24995  towards end movie felt technical felt like cla...   \n",
       "24996  kind movie enemies content watch time bloody t...   \n",
       "24997  saw descent last night stockholm film festival...   \n",
       "24998  films pick pound turn rather good 23rd century...   \n",
       "24999  one dumbest films ive ever seen rips nearly ev...   \n",
       "\n",
       "                                              text_steam  \\\n",
       "0      bromwel high is a cartoon comedi it ran at the...   \n",
       "1      homeless or houseless as georg carlin state ha...   \n",
       "2      brilliant overact by lesley ann warren best dr...   \n",
       "3      this is easili the most underr film inn the br...   \n",
       "4      this is not the typic mel brook film it was mu...   \n",
       "...                                                  ...   \n",
       "24995  toward the end of the movi i felt it was too t...   \n",
       "24996  this is the kind of movi that my enemi content...   \n",
       "24997  i saw descent last night at the stockholm film...   \n",
       "24998  some film that you pick up for a pound turn ou...   \n",
       "24999  this is one of the dumbest film ive ever seen ...   \n",
       "\n",
       "                                    text_steam_stop_word  \n",
       "0      bromwel high cartoon comedi ran time program s...  \n",
       "1      homeless houseless georg carlin state issu yea...  \n",
       "2      brilliant overact lesley ann warren best drama...  \n",
       "3      easili underr film inn brook cannon sure flaw ...  \n",
       "4      typic mel brook film much less slapstick movi ...  \n",
       "...                                                  ...  \n",
       "24995  toward end movi felt technic felt like classro...  \n",
       "24996  kind movi enemi content watch time bloodi true...  \n",
       "24997  saw descent last night stockholm film festiv o...  \n",
       "24998  film pick pound turn rather good 23rd centuri ...  \n",
       "24999  one dumbest film ive ever seen rip near ever t...  \n",
       "\n",
       "[25000 rows x 5 columns]"
      ]
     },
     "execution_count": 14,
     "metadata": {},
     "output_type": "execute_result"
    }
   ],
   "source": [
    "train_dataset"
   ]
  },
  {
   "cell_type": "code",
   "execution_count": 15,
   "metadata": {},
   "outputs": [
    {
     "name": "stderr",
     "output_type": "stream",
     "text": [
      "C:\\Users\\PION\\anaconda3\\envs\\PYTORCH\\lib\\site-packages\\sklearn\\utils\\deprecation.py:87: FutureWarning: Function plot_confusion_matrix is deprecated; Function `plot_confusion_matrix` is deprecated in 1.0 and will be removed in 1.2. Use one of the class methods: ConfusionMatrixDisplay.from_predictions or ConfusionMatrixDisplay.from_estimator.\n",
      "  warnings.warn(msg, category=FutureWarning)\n"
     ]
    },
    {
     "data": {
      "image/png": "[encoded data removed]",
      "text/plain": [
       "<Figure size 640x480 with 2 Axes>"
      ]
     },
     "metadata": {},
     "output_type": "display_data"
    }
   ],
   "source": [
    "pred_no = prediction(test_dataset,'text_no_stop')"
   ]
  },
  {
   "cell_type": "code",
   "execution_count": 16,
   "metadata": {},
   "outputs": [
    {
     "name": "stdout",
     "output_type": "stream",
     "text": [
      "Accuracy is 0.82712\n"
     ]
    }
   ],
   "source": [
    "print('Accuracy is ' + str(np.mean(pred_no == test_dataset.label)))\n",
    "Accuracy.append(str(np.mean(pred_no == test_dataset.label)))\n",
    "Names.append('no_stop')"
   ]
  },
  {
   "cell_type": "code",
   "execution_count": 17,
   "metadata": {},
   "outputs": [
    {
     "name": "stdout",
     "output_type": "stream",
     "text": [
      "br\n",
      "movie\n",
      "film\n",
      "one\n",
      "like\n",
      "even\n",
      "good\n",
      "bad\n",
      "would\n",
      "really\n"
     ]
    },
    {
     "name": "stderr",
     "output_type": "stream",
     "text": [
      "C:\\Users\\PION\\anaconda3\\envs\\PYTORCH\\lib\\site-packages\\sklearn\\utils\\deprecation.py:87: FutureWarning: Function get_feature_names is deprecated; get_feature_names is deprecated in 1.0 and will be removed in 1.2. Please use get_feature_names_out instead.\n",
      "  warnings.warn(msg, category=FutureWarning)\n"
     ]
    }
   ],
   "source": [
    "most_important_word()"
   ]
  },
  {
   "cell_type": "markdown",
   "metadata": {},
   "source": [
    "question 6"
   ]
  },
  {
   "cell_type": "code",
   "execution_count": 47,
   "metadata": {},
   "outputs": [],
   "source": [
    "def get_index(prediction):\n",
    "    \"\"\"Description\n",
    "    Args:\n",
    "        prediction: Series containing a binary prediction\n",
    "    Return:\n",
    "        res: List of elements that were not guessed correctly\n",
    "    \"\"\"\n",
    "    columns = ['pred','label']\n",
    "    df = pd.DataFrame(list(zip(prediction,test_dataset.label)),columns=columns)\n",
    "    res = []\n",
    "    for index,row in df.iterrows():\n",
    "        if row[\"pred\"] != row[\"label\"]:\n",
    "            res.append(index)\n",
    "    return res"
   ]
  },
  {
   "cell_type": "code",
   "execution_count": 50,
   "metadata": {},
   "outputs": [
    {
     "name": "stdout",
     "output_type": "stream",
     "text": [
      "i loved this movie from beginning to endi am a musician and i let drugs get in the way of my some of the things i used to loveskateboardingdrawing but my friends were always there for memusic was like my rehablife supportand my drugit changed my lifei can totally relate to this movie and i wish there was more i could saythis movie left me speechless to be honesti just saw it on the ifc channeli usually hate having satellite but this was a perk of having satellitethe ifc channel shows some really great movies and without it i never would have found this movieim not a big fan of the international films because i find that a lot of the dont do a very good job on translating linesi mean the obvious language barrier leaves you to just believe thats what they are saying but its not that big of a deal i guessi almost never got to see this amazing moviegood thing i stayed up for it instead of going to bedwell earlier than usualloli hope you all enjoy the hell of this movie and love this movie just as much as i didi wish i could type this all in caps but its again the rules i guess thats shouting but it would really show my excitement for the filmi give it three thumbs way upbr br this movie blew me away\n",
      "\n",
      " ------------------------------\n",
      "\n",
      "my wife is a mental health therapist and we watched it from beginning to end i am the typical man and can not stand chick flicks but this movie is unbelievable if you want to see what it is like for someone who is going through these type of struggles this is the movie for you as i watched it i found myself feeling sorry for him and others like him br br spoiler plus the fact that all the individuals in the movie including the people in the mental institution were the actual people in real life made it that more realbr br a must see for someone in the mental health profession\n",
      "\n",
      " ------------------------------\n",
      "\n",
      "i went into night of the hunted not knowing what to expect at all i was really impressedbr br it is essentially a mysterythriller where this girl who cant remember anything gets rescued by a guy who happens to be driving past the two become fast friends and lovers and together they try to figure out what is going on with her through some vague flashbacks and grim memories they eventually get to the bottom of it and the ending is pretty coolbr br i really liked the setting of this one a desolate postmodern paris is the backdrop with lots of gray skies and tall buildings very metropolitan groovy soundtrack and lots of nuditybr br surprising it was made in 1980 seems somewhat ahead of its timebr br 8 out of 10 kids\n",
      "\n",
      " ------------------------------\n",
      "\n",
      "while i cant say whether or not larry hama ever saw any of the old cartoons i would think that writing said cartoons file cards and some of the comics would count for somethingbr br for fans of the old cartoon this is pretty much a continuation of the same except with a few new characters  and a more insane cobra commanderbr br we still have all the old favorites too but on a personal note one thing that always irritated me was this duke in charge stuff when there are tons of other officers around insteadbr br the battle sequences are similar to the old series as well the main trick here seems to be the cgi its overall pretty good if not a little overthetop\n",
      "\n",
      " ------------------------------\n",
      "\n",
      "i have to rate this movie at a 10 im sorry but i think its classic comedy then if youre rating it to other madonna movieswell what you wanna tell me it wasnt her best movie ever didnt mira sorvino win an oscar for almost the same performance not ten years later please this movie deserves much more credit than it gets plus i like to think of it as an a sociological study into the lifestyles of the 80s remember when you could shoplift from sam goody and cartier in the same day remember when women wore bushy eyebrows proudly so it was no last emperor it was still good there are certain movies id be willing to watch everyday three actually that pep up my day and make me smile if you like whos that girl then id also recommend party girl and romy and michelles high school reunion\n",
      "\n",
      " ------------------------------\n",
      "\n"
     ]
    }
   ],
   "source": [
    "incorrect = get_index(pred_test)\n",
    "for i in range(5):\n",
    "    if i<len(incorrect):\n",
    "        print(test_dataset.text[incorrect[i]])\n",
    "        print(\"\\n ------------------------------\\n\")"
   ]
  },
  {
   "cell_type": "markdown",
   "metadata": {},
   "source": [
    "## Adding some steaming"
   ]
  },
  {
   "cell_type": "markdown",
   "metadata": {},
   "source": [
    "1. (2 points) Add stemming or lemmatization to your pretreatment."
   ]
  },
  {
   "cell_type": "markdown",
   "metadata": {},
   "source": [
    "Steaming has been added in the pretreatment function"
   ]
  },
  {
   "cell_type": "code",
   "execution_count": 18,
   "metadata": {},
   "outputs": [
    {
     "data": {
      "text/html": [
       "<div>\n",
       "<style scoped>\n",
       "    .dataframe tbody tr th:only-of-type {\n",
       "        vertical-align: middle;\n",
       "    }\n",
       "\n",
       "    .dataframe tbody tr th {\n",
       "        vertical-align: top;\n",
       "    }\n",
       "\n",
       "    .dataframe thead th {\n",
       "        text-align: right;\n",
       "    }\n",
       "</style>\n",
       "<table border=\"1\" class=\"dataframe\">\n",
       "  <thead>\n",
       "    <tr style=\"text-align: right;\">\n",
       "      <th></th>\n",
       "      <th>text</th>\n",
       "      <th>label</th>\n",
       "      <th>text_no_stop</th>\n",
       "      <th>text_steam</th>\n",
       "      <th>text_steam_stop_word</th>\n",
       "    </tr>\n",
       "  </thead>\n",
       "  <tbody>\n",
       "    <tr>\n",
       "      <th>0</th>\n",
       "      <td>i went and saw this movie last night after bei...</td>\n",
       "      <td>1</td>\n",
       "      <td>went saw movie last night coaxed friends mine ...</td>\n",
       "      <td>i went and saw this movi last night after be c...</td>\n",
       "      <td>went saw movi last night coax friend mine ill ...</td>\n",
       "    </tr>\n",
       "    <tr>\n",
       "      <th>1</th>\n",
       "      <td>actor turned director bill paxton follows up h...</td>\n",
       "      <td>1</td>\n",
       "      <td>actor turned director bill paxton follows prom...</td>\n",
       "      <td>actor turn director bill paxton follow up his ...</td>\n",
       "      <td>actor turn director bill paxton follow promis ...</td>\n",
       "    </tr>\n",
       "    <tr>\n",
       "      <th>2</th>\n",
       "      <td>as a recreational golfer with some knowledge o...</td>\n",
       "      <td>1</td>\n",
       "      <td>recreational golfer knowledge sports history p...</td>\n",
       "      <td>as a recreat golfer with some knowledg of the ...</td>\n",
       "      <td>recreat golfer knowledg sport histori pleas di...</td>\n",
       "    </tr>\n",
       "    <tr>\n",
       "      <th>3</th>\n",
       "      <td>i saw this film in a sneak preview and it is d...</td>\n",
       "      <td>1</td>\n",
       "      <td>saw film sneak preview delightful cinematograp...</td>\n",
       "      <td>i saw this film in a sneak preview and it is d...</td>\n",
       "      <td>saw film sneak preview delight cinematographi ...</td>\n",
       "    </tr>\n",
       "    <tr>\n",
       "      <th>4</th>\n",
       "      <td>bill paxton has taken the true story of the 19...</td>\n",
       "      <td>1</td>\n",
       "      <td>bill paxton taken true story 1913 us golf open...</td>\n",
       "      <td>bill paxton has taken the true stori of the 19...</td>\n",
       "      <td>bill paxton taken true stori 1913 us golf open...</td>\n",
       "    </tr>\n",
       "    <tr>\n",
       "      <th>...</th>\n",
       "      <td>...</td>\n",
       "      <td>...</td>\n",
       "      <td>...</td>\n",
       "      <td>...</td>\n",
       "      <td>...</td>\n",
       "    </tr>\n",
       "    <tr>\n",
       "      <th>24995</th>\n",
       "      <td>i occasionally let my kids watch this garbage ...</td>\n",
       "      <td>0</td>\n",
       "      <td>occasionally let kids watch garbage understand...</td>\n",
       "      <td>i occasion let my kid watch this garbag so the...</td>\n",
       "      <td>occasion let kid watch garbag understand pathe...</td>\n",
       "    </tr>\n",
       "    <tr>\n",
       "      <th>24996</th>\n",
       "      <td>when all we have anymore is pretty much realit...</td>\n",
       "      <td>0</td>\n",
       "      <td>anymore pretty much reality tv shows people ma...</td>\n",
       "      <td>when all we have anymor is pretti much realiti...</td>\n",
       "      <td>anymor pretti much realiti tv show peopl make ...</td>\n",
       "    </tr>\n",
       "    <tr>\n",
       "      <th>24997</th>\n",
       "      <td>the basic genre is a thriller intercut with an...</td>\n",
       "      <td>0</td>\n",
       "      <td>basic genre thriller intercut uncomfortable me...</td>\n",
       "      <td>the basic genr is a thriller intercut with an ...</td>\n",
       "      <td>basic genr thriller intercut uncomfort menagea...</td>\n",
       "    </tr>\n",
       "    <tr>\n",
       "      <th>24998</th>\n",
       "      <td>four things intrigued me as to this film  firs...</td>\n",
       "      <td>0</td>\n",
       "      <td>four things intrigued film firstly stars carly...</td>\n",
       "      <td>four thing intrigu me as to this film first it...</td>\n",
       "      <td>four thing intrigu film first star car pope po...</td>\n",
       "    </tr>\n",
       "    <tr>\n",
       "      <th>24999</th>\n",
       "      <td>david bryces comments nearby are exceptionally...</td>\n",
       "      <td>0</td>\n",
       "      <td>david bryces comments nearby exceptionally wel...</td>\n",
       "      <td>david bryce comment nearbi are except well wri...</td>\n",
       "      <td>david bryce comment nearbi except well written...</td>\n",
       "    </tr>\n",
       "  </tbody>\n",
       "</table>\n",
       "<p>25000 rows × 5 columns</p>\n",
       "</div>"
      ],
      "text/plain": [
       "                                                    text  label  \\\n",
       "0      i went and saw this movie last night after bei...      1   \n",
       "1      actor turned director bill paxton follows up h...      1   \n",
       "2      as a recreational golfer with some knowledge o...      1   \n",
       "3      i saw this film in a sneak preview and it is d...      1   \n",
       "4      bill paxton has taken the true story of the 19...      1   \n",
       "...                                                  ...    ...   \n",
       "24995  i occasionally let my kids watch this garbage ...      0   \n",
       "24996  when all we have anymore is pretty much realit...      0   \n",
       "24997  the basic genre is a thriller intercut with an...      0   \n",
       "24998  four things intrigued me as to this film  firs...      0   \n",
       "24999  david bryces comments nearby are exceptionally...      0   \n",
       "\n",
       "                                            text_no_stop  \\\n",
       "0      went saw movie last night coaxed friends mine ...   \n",
       "1      actor turned director bill paxton follows prom...   \n",
       "2      recreational golfer knowledge sports history p...   \n",
       "3      saw film sneak preview delightful cinematograp...   \n",
       "4      bill paxton taken true story 1913 us golf open...   \n",
       "...                                                  ...   \n",
       "24995  occasionally let kids watch garbage understand...   \n",
       "24996  anymore pretty much reality tv shows people ma...   \n",
       "24997  basic genre thriller intercut uncomfortable me...   \n",
       "24998  four things intrigued film firstly stars carly...   \n",
       "24999  david bryces comments nearby exceptionally wel...   \n",
       "\n",
       "                                              text_steam  \\\n",
       "0      i went and saw this movi last night after be c...   \n",
       "1      actor turn director bill paxton follow up his ...   \n",
       "2      as a recreat golfer with some knowledg of the ...   \n",
       "3      i saw this film in a sneak preview and it is d...   \n",
       "4      bill paxton has taken the true stori of the 19...   \n",
       "...                                                  ...   \n",
       "24995  i occasion let my kid watch this garbag so the...   \n",
       "24996  when all we have anymor is pretti much realiti...   \n",
       "24997  the basic genr is a thriller intercut with an ...   \n",
       "24998  four thing intrigu me as to this film first it...   \n",
       "24999  david bryce comment nearbi are except well wri...   \n",
       "\n",
       "                                    text_steam_stop_word  \n",
       "0      went saw movi last night coax friend mine ill ...  \n",
       "1      actor turn director bill paxton follow promis ...  \n",
       "2      recreat golfer knowledg sport histori pleas di...  \n",
       "3      saw film sneak preview delight cinematographi ...  \n",
       "4      bill paxton taken true stori 1913 us golf open...  \n",
       "...                                                  ...  \n",
       "24995  occasion let kid watch garbag understand pathe...  \n",
       "24996  anymor pretti much realiti tv show peopl make ...  \n",
       "24997  basic genr thriller intercut uncomfort menagea...  \n",
       "24998  four thing intrigu film first star car pope po...  \n",
       "24999  david bryce comment nearbi except well written...  \n",
       "\n",
       "[25000 rows x 5 columns]"
      ]
     },
     "execution_count": 18,
     "metadata": {},
     "output_type": "execute_result"
    }
   ],
   "source": [
    "test_dataset"
   ]
  },
  {
   "cell_type": "code",
   "execution_count": 19,
   "metadata": {},
   "outputs": [
    {
     "name": "stderr",
     "output_type": "stream",
     "text": [
      "C:\\Users\\PION\\anaconda3\\envs\\PYTORCH\\lib\\site-packages\\sklearn\\utils\\deprecation.py:87: FutureWarning: Function plot_confusion_matrix is deprecated; Function `plot_confusion_matrix` is deprecated in 1.0 and will be removed in 1.2. Use one of the class methods: ConfusionMatrixDisplay.from_predictions or ConfusionMatrixDisplay.from_estimator.\n",
      "  warnings.warn(msg, category=FutureWarning)\n"
     ]
    },
    {
     "data": {
      "image/png": "[encoded data removed]",
      "text/plain": [
       "<Figure size 640x480 with 2 Axes>"
      ]
     },
     "metadata": {},
     "output_type": "display_data"
    }
   ],
   "source": [
    "pred_steam = prediction(test_dataset,'text_steam')"
   ]
  },
  {
   "cell_type": "code",
   "execution_count": 20,
   "metadata": {},
   "outputs": [
    {
     "name": "stdout",
     "output_type": "stream",
     "text": [
      "Accuracy is 0.80972\n"
     ]
    }
   ],
   "source": [
    "print('Accuracy is ' + str(np.mean(pred_steam == test_dataset.label)))\n",
    "Accuracy.append(str(np.mean(pred_steam == test_dataset.label)))\n",
    "Names.append('steam')"
   ]
  },
  {
   "cell_type": "code",
   "execution_count": 21,
   "metadata": {},
   "outputs": [
    {
     "name": "stderr",
     "output_type": "stream",
     "text": [
      "C:\\Users\\PION\\anaconda3\\envs\\PYTORCH\\lib\\site-packages\\sklearn\\utils\\deprecation.py:87: FutureWarning: Function plot_confusion_matrix is deprecated; Function `plot_confusion_matrix` is deprecated in 1.0 and will be removed in 1.2. Use one of the class methods: ConfusionMatrixDisplay.from_predictions or ConfusionMatrixDisplay.from_estimator.\n",
      "  warnings.warn(msg, category=FutureWarning)\n"
     ]
    },
    {
     "data": {
      "image/png": "[encoded data removed]",
      "text/plain": [
       "<Figure size 640x480 with 2 Axes>"
      ]
     },
     "metadata": {},
     "output_type": "display_data"
    }
   ],
   "source": [
    "pred_steam_stop_word = prediction(test_dataset,'text_steam_stop_word')"
   ]
  },
  {
   "cell_type": "code",
   "execution_count": 22,
   "metadata": {},
   "outputs": [
    {
     "name": "stdout",
     "output_type": "stream",
     "text": [
      "Accuracy is 0.8198\n"
     ]
    }
   ],
   "source": [
    "print('Accuracy is ' + str(np.mean(pred_steam_stop_word == test_dataset.label)))\n",
    "Accuracy.append(str(np.mean(pred_steam_stop_word == test_dataset.label)))\n",
    "Names.append('no_stop_steam')"
   ]
  },
  {
   "cell_type": "code",
   "execution_count": 52,
   "metadata": {},
   "outputs": [
    {
     "data": {
      "text/plain": [
       "(['0.81728', '0.91284', '0.82712', '0.80972', '0.8198'],\n",
       " ['test', 'train', 'no_stop', 'steam', 'no_stop_steam'])"
      ]
     },
     "execution_count": 52,
     "metadata": {},
     "output_type": "execute_result"
    }
   ],
   "source": [
    "Accuracy,Names"
   ]
  }
 ],
 "metadata": {
  "kernelspec": {
   "display_name": "Python 3 (ipykernel)",
   "language": "python",
   "name": "python3"
  },
  "language_info": {
   "codemirror_mode": {
    "name": "ipython",
    "version": 3
   },
   "file_extension": ".py",
   "mimetype": "text/x-python",
   "name": "python",
   "nbconvert_exporter": "python",
   "pygments_lexer": "ipython3",
   "version": "3.8.13"
  }
 },
 "nbformat": 4,
 "nbformat_minor": 4
}
