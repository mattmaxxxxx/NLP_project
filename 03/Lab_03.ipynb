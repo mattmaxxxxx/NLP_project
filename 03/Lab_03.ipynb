{
 "cells": [
  {
   "cell_type": "markdown",
   "id": "6ef17dc1",
   "metadata": {},
   "source": [
    "#                                                                                     Lab n°3"
   ]
  },
  {
   "cell_type": "markdown",
   "id": "8aff6c52",
   "metadata": {},
   "source": [
    "1. Turn the dataset into a dataset compatible with Fastext (see the Tips on using FastText section a bit lower)"
   ]
  },
  {
   "cell_type": "code",
   "execution_count": 1,
   "id": "c5528ff6",
   "metadata": {},
   "outputs": [
    {
     "name": "stderr",
     "output_type": "stream",
     "text": [
      "Reusing dataset imdb (C:\\Users\\matth\\.cache\\huggingface\\datasets\\imdb\\plain_text\\1.0.0\\2fdd8b9bcadd6e7055e742a706876ba43f19faee861df134affd7a3f60fc38a1)\n",
      "Reusing dataset imdb (C:\\Users\\matth\\.cache\\huggingface\\datasets\\imdb\\plain_text\\1.0.0\\2fdd8b9bcadd6e7055e742a706876ba43f19faee861df134affd7a3f60fc38a1)\n"
     ]
    },
    {
     "data": {
      "text/html": [
       "<div>\n",
       "<style scoped>\n",
       "    .dataframe tbody tr th:only-of-type {\n",
       "        vertical-align: middle;\n",
       "    }\n",
       "\n",
       "    .dataframe tbody tr th {\n",
       "        vertical-align: top;\n",
       "    }\n",
       "\n",
       "    .dataframe thead th {\n",
       "        text-align: right;\n",
       "    }\n",
       "</style>\n",
       "<table border=\"1\" class=\"dataframe\">\n",
       "  <thead>\n",
       "    <tr style=\"text-align: right;\">\n",
       "      <th></th>\n",
       "      <th>text</th>\n",
       "      <th>label</th>\n",
       "    </tr>\n",
       "  </thead>\n",
       "  <tbody>\n",
       "    <tr>\n",
       "      <th>0</th>\n",
       "      <td>I love sci-fi and am willing to put up with a ...</td>\n",
       "      <td>0</td>\n",
       "    </tr>\n",
       "    <tr>\n",
       "      <th>1</th>\n",
       "      <td>Worth the entertainment value of a rental, esp...</td>\n",
       "      <td>0</td>\n",
       "    </tr>\n",
       "    <tr>\n",
       "      <th>2</th>\n",
       "      <td>its a totally average film with a few semi-alr...</td>\n",
       "      <td>0</td>\n",
       "    </tr>\n",
       "    <tr>\n",
       "      <th>3</th>\n",
       "      <td>STAR RATING: ***** Saturday Night **** Friday ...</td>\n",
       "      <td>0</td>\n",
       "    </tr>\n",
       "    <tr>\n",
       "      <th>4</th>\n",
       "      <td>First off let me say, If you haven't enjoyed a...</td>\n",
       "      <td>0</td>\n",
       "    </tr>\n",
       "    <tr>\n",
       "      <th>...</th>\n",
       "      <td>...</td>\n",
       "      <td>...</td>\n",
       "    </tr>\n",
       "    <tr>\n",
       "      <th>24995</th>\n",
       "      <td>Just got around to seeing Monster Man yesterda...</td>\n",
       "      <td>1</td>\n",
       "    </tr>\n",
       "    <tr>\n",
       "      <th>24996</th>\n",
       "      <td>I got this as part of a competition prize. I w...</td>\n",
       "      <td>1</td>\n",
       "    </tr>\n",
       "    <tr>\n",
       "      <th>24997</th>\n",
       "      <td>I got Monster Man in a box set of three films ...</td>\n",
       "      <td>1</td>\n",
       "    </tr>\n",
       "    <tr>\n",
       "      <th>24998</th>\n",
       "      <td>Five minutes in, i started to feel how naff th...</td>\n",
       "      <td>1</td>\n",
       "    </tr>\n",
       "    <tr>\n",
       "      <th>24999</th>\n",
       "      <td>I caught this movie on the Sci-Fi channel rece...</td>\n",
       "      <td>1</td>\n",
       "    </tr>\n",
       "  </tbody>\n",
       "</table>\n",
       "<p>25000 rows × 2 columns</p>\n",
       "</div>"
      ],
      "text/plain": [
       "                                                    text  label\n",
       "0      I love sci-fi and am willing to put up with a ...      0\n",
       "1      Worth the entertainment value of a rental, esp...      0\n",
       "2      its a totally average film with a few semi-alr...      0\n",
       "3      STAR RATING: ***** Saturday Night **** Friday ...      0\n",
       "4      First off let me say, If you haven't enjoyed a...      0\n",
       "...                                                  ...    ...\n",
       "24995  Just got around to seeing Monster Man yesterda...      1\n",
       "24996  I got this as part of a competition prize. I w...      1\n",
       "24997  I got Monster Man in a box set of three films ...      1\n",
       "24998  Five minutes in, i started to feel how naff th...      1\n",
       "24999  I caught this movie on the Sci-Fi channel rece...      1\n",
       "\n",
       "[25000 rows x 2 columns]"
      ]
     },
     "execution_count": 1,
     "metadata": {},
     "output_type": "execute_result"
    }
   ],
   "source": [
    "from datasets import load_dataset\n",
    "\n",
    "train_dataset = load_dataset(\"imdb\", split=\"train\").to_pandas()\n",
    "test_dataset = load_dataset(\"imdb\", split=\"test\").to_pandas()\n",
    "\n",
    "test_dataset"
   ]
  },
  {
   "cell_type": "code",
   "execution_count": 2,
   "id": "53e00fa6",
   "metadata": {},
   "outputs": [],
   "source": [
    "train_dataset['text'] = train_dataset['text'].str.lower()\n",
    "test_dataset['text'] = test_dataset['text'].str.lower()"
   ]
  },
  {
   "cell_type": "code",
   "execution_count": 3,
   "id": "98016a78",
   "metadata": {},
   "outputs": [
    {
     "name": "stderr",
     "output_type": "stream",
     "text": [
      "C:\\Users\\matth\\AppData\\Local\\Temp\\ipykernel_22620\\1553221715.py:3: FutureWarning: The default value of regex will change from True to False in a future version.\n",
      "  train_dataset['text'] = train_dataset['text'].str.replace('[{}]'.format(punctuation), '')\n",
      "C:\\Users\\matth\\AppData\\Local\\Temp\\ipykernel_22620\\1553221715.py:4: FutureWarning: The default value of regex will change from True to False in a future version.\n",
      "  test_dataset['text'] = test_dataset['text'].str.replace('[{}]'.format(punctuation), '')\n"
     ]
    }
   ],
   "source": [
    "from string import punctuation\n",
    "\n",
    "train_dataset['text'] = train_dataset['text'].str.replace('[{}]'.format(punctuation), '')\n",
    "test_dataset['text'] = test_dataset['text'].str.replace('[{}]'.format(punctuation), '')"
   ]
  },
  {
   "cell_type": "code",
   "execution_count": 4,
   "id": "99aef3ee",
   "metadata": {},
   "outputs": [
    {
     "data": {
      "text/html": [
       "<div>\n",
       "<style scoped>\n",
       "    .dataframe tbody tr th:only-of-type {\n",
       "        vertical-align: middle;\n",
       "    }\n",
       "\n",
       "    .dataframe tbody tr th {\n",
       "        vertical-align: top;\n",
       "    }\n",
       "\n",
       "    .dataframe thead th {\n",
       "        text-align: right;\n",
       "    }\n",
       "</style>\n",
       "<table border=\"1\" class=\"dataframe\">\n",
       "  <thead>\n",
       "    <tr style=\"text-align: right;\">\n",
       "      <th></th>\n",
       "      <th>text</th>\n",
       "      <th>label</th>\n",
       "    </tr>\n",
       "  </thead>\n",
       "  <tbody>\n",
       "    <tr>\n",
       "      <th>0</th>\n",
       "      <td>i love scifi and am willing to put up with a l...</td>\n",
       "      <td>0</td>\n",
       "    </tr>\n",
       "    <tr>\n",
       "      <th>1</th>\n",
       "      <td>worth the entertainment value of a rental espe...</td>\n",
       "      <td>0</td>\n",
       "    </tr>\n",
       "    <tr>\n",
       "      <th>2</th>\n",
       "      <td>its a totally average film with a few semialri...</td>\n",
       "      <td>0</td>\n",
       "    </tr>\n",
       "    <tr>\n",
       "      <th>3</th>\n",
       "      <td>star rating  saturday night  friday night  fri...</td>\n",
       "      <td>0</td>\n",
       "    </tr>\n",
       "    <tr>\n",
       "      <th>4</th>\n",
       "      <td>first off let me say if you havent enjoyed a v...</td>\n",
       "      <td>0</td>\n",
       "    </tr>\n",
       "    <tr>\n",
       "      <th>...</th>\n",
       "      <td>...</td>\n",
       "      <td>...</td>\n",
       "    </tr>\n",
       "    <tr>\n",
       "      <th>24995</th>\n",
       "      <td>just got around to seeing monster man yesterda...</td>\n",
       "      <td>1</td>\n",
       "    </tr>\n",
       "    <tr>\n",
       "      <th>24996</th>\n",
       "      <td>i got this as part of a competition prize i wa...</td>\n",
       "      <td>1</td>\n",
       "    </tr>\n",
       "    <tr>\n",
       "      <th>24997</th>\n",
       "      <td>i got monster man in a box set of three films ...</td>\n",
       "      <td>1</td>\n",
       "    </tr>\n",
       "    <tr>\n",
       "      <th>24998</th>\n",
       "      <td>five minutes in i started to feel how naff thi...</td>\n",
       "      <td>1</td>\n",
       "    </tr>\n",
       "    <tr>\n",
       "      <th>24999</th>\n",
       "      <td>i caught this movie on the scifi channel recen...</td>\n",
       "      <td>1</td>\n",
       "    </tr>\n",
       "  </tbody>\n",
       "</table>\n",
       "<p>25000 rows × 2 columns</p>\n",
       "</div>"
      ],
      "text/plain": [
       "                                                    text  label\n",
       "0      i love scifi and am willing to put up with a l...      0\n",
       "1      worth the entertainment value of a rental espe...      0\n",
       "2      its a totally average film with a few semialri...      0\n",
       "3      star rating  saturday night  friday night  fri...      0\n",
       "4      first off let me say if you havent enjoyed a v...      0\n",
       "...                                                  ...    ...\n",
       "24995  just got around to seeing monster man yesterda...      1\n",
       "24996  i got this as part of a competition prize i wa...      1\n",
       "24997  i got monster man in a box set of three films ...      1\n",
       "24998  five minutes in i started to feel how naff thi...      1\n",
       "24999  i caught this movie on the scifi channel recen...      1\n",
       "\n",
       "[25000 rows x 2 columns]"
      ]
     },
     "execution_count": 4,
     "metadata": {},
     "output_type": "execute_result"
    }
   ],
   "source": [
    "test_dataset"
   ]
  },
  {
   "cell_type": "code",
   "execution_count": 5,
   "id": "2b431a1e",
   "metadata": {},
   "outputs": [],
   "source": [
    "def panda_to_fasttext(file, dataframe):\n",
    "    '''Takes in a txt file path and a panda dataframe, write each dataframe row in the txt'''\n",
    "    with open(file, 'w') as f:\n",
    "        for index, row in dataframe.iterrows():\n",
    "            f.writelines(f'__label__{str(row[\"label\"]).encode(\"utf-8\")} {row[\"text\"].encode(\"utf-8\")}\\n')"
   ]
  },
  {
   "cell_type": "code",
   "execution_count": 6,
   "id": "a78104f3",
   "metadata": {},
   "outputs": [],
   "source": [
    "panda_to_fasttext('imdb_train_comments.txt', train_dataset)"
   ]
  },
  {
   "cell_type": "code",
   "execution_count": 7,
   "id": "7232ffec",
   "metadata": {},
   "outputs": [],
   "source": [
    "panda_to_fasttext('imdb_test_comments.txt', test_dataset)"
   ]
  },
  {
   "cell_type": "code",
   "execution_count": 8,
   "id": "b9fe5021",
   "metadata": {},
   "outputs": [
    {
     "name": "stdout",
     "output_type": "stream",
     "text": [
      "Requirement already satisfied: fasttext in c:\\users\\matth\\anaconda3\\lib\\site-packages (0.9.2)\n",
      "Requirement already satisfied: setuptools>=0.7.0 in c:\\users\\matth\\anaconda3\\lib\\site-packages (from fasttext) (58.0.4)\n",
      "Requirement already satisfied: numpy in c:\\users\\matth\\appdata\\roaming\\python\\python39\\site-packages (from fasttext) (1.22.4)\n",
      "Requirement already satisfied: pybind11>=2.2 in c:\\users\\matth\\anaconda3\\lib\\site-packages (from fasttext) (2.10.0)\n"
     ]
    },
    {
     "name": "stderr",
     "output_type": "stream",
     "text": [
      "WARNING: Ignoring invalid distribution -illow (c:\\users\\matth\\appdata\\roaming\\python\\python39\\site-packages)\n",
      "WARNING: Ignoring invalid distribution -illow (c:\\users\\matth\\appdata\\roaming\\python\\python39\\site-packages)\n",
      "WARNING: Ignoring invalid distribution -illow (c:\\users\\matth\\appdata\\roaming\\python\\python39\\site-packages)\n",
      "WARNING: Ignoring invalid distribution -illow (c:\\users\\matth\\appdata\\roaming\\python\\python39\\site-packages)\n",
      "WARNING: Ignoring invalid distribution -illow (c:\\users\\matth\\appdata\\roaming\\python\\python39\\site-packages)\n",
      "WARNING: Ignoring invalid distribution -illow (c:\\users\\matth\\appdata\\roaming\\python\\python39\\site-packages)\n"
     ]
    }
   ],
   "source": [
    "!pip install fasttext"
   ]
  },
  {
   "cell_type": "markdown",
   "id": "9ccdaaae",
   "metadata": {},
   "source": [
    "2. Train a FastText classifier with default parameters on the training data, and evaluate it on the test data using accuracy."
   ]
  },
  {
   "cell_type": "code",
   "execution_count": 9,
   "id": "f3f1d921",
   "metadata": {},
   "outputs": [],
   "source": [
    "import fasttext\n",
    "\n",
    "model = fasttext.train_supervised('imdb_train_comments.txt')"
   ]
  },
  {
   "cell_type": "code",
   "execution_count": 10,
   "id": "7d8c540c",
   "metadata": {},
   "outputs": [
    {
     "data": {
      "text/plain": [
       "(25000, 0.87392, 0.87392)"
      ]
     },
     "execution_count": 10,
     "metadata": {},
     "output_type": "execute_result"
    }
   ],
   "source": [
    "model.test('imdb_test_comments.txt')  "
   ]
  },
  {
   "cell_type": "markdown",
   "id": "ff502abb",
   "metadata": {},
   "source": [
    "3. Use the hyperparameters search functionality of FastText and repeat step 2"
   ]
  },
  {
   "cell_type": "code",
   "execution_count": 11,
   "id": "3f1b79e6",
   "metadata": {},
   "outputs": [],
   "source": [
    "from sklearn.model_selection import train_test_split\n",
    "\n",
    "train, validation = train_test_split(train_dataset, test_size=0.2, random_state=42, shuffle=True)"
   ]
  },
  {
   "cell_type": "code",
   "execution_count": 12,
   "id": "517c9ad8",
   "metadata": {},
   "outputs": [],
   "source": [
    "panda_to_fasttext('imdb_validation_comments.txt', validation)\n",
    "panda_to_fasttext('imdb_train_comments.txt', train)"
   ]
  },
  {
   "cell_type": "code",
   "execution_count": 13,
   "id": "735197e3",
   "metadata": {},
   "outputs": [],
   "source": [
    "model = fasttext.train_supervised(input='imdb_train_comments.txt', autotuneValidationFile='imdb_validation_comments.txt')"
   ]
  },
  {
   "cell_type": "code",
   "execution_count": 14,
   "id": "90ead0a4",
   "metadata": {},
   "outputs": [
    {
     "data": {
      "text/plain": [
       "(25000, 0.88636, 0.88636)"
      ]
     },
     "execution_count": 14,
     "metadata": {},
     "output_type": "execute_result"
    }
   ],
   "source": [
    "model.test('imdb_test_comments.txt')"
   ]
  },
  {
   "cell_type": "markdown",
   "id": "e0b705e2",
   "metadata": {},
   "source": [
    "4. Look at the differences between the default model and the attributes found with hyperparameters search. How do the two models differ?"
   ]
  },
  {
   "cell_type": "markdown",
   "id": "41243189",
   "metadata": {},
   "source": [
    "The second model will take the best hyperparameters with the best f1 score. That's why the second model is always better."
   ]
  },
  {
   "cell_type": "markdown",
   "id": "93a30c46",
   "metadata": {},
   "source": [
    "5. Using the tuned model, take at least 2 wrongly classified examples from the test set, and try explaining why the model failed."
   ]
  },
  {
   "cell_type": "code",
   "execution_count": 18,
   "id": "c00db142",
   "metadata": {},
   "outputs": [
    {
     "name": "stdout",
     "output_type": "stream",
     "text": [
      "prediction : ((\"__label__b'0'\",), array([0.99732149]))    expected : 0\n",
      "prediction : ((\"__label__b'0'\",), array([0.9180463]))    expected : 0\n",
      "prediction : ((\"__label__b'0'\",), array([0.98925889]))    expected : 0\n",
      "prediction : ((\"__label__b'0'\",), array([0.97244519]))    expected : 0\n",
      "prediction : ((\"__label__b'1'\",), array([0.99960345]))    expected : 0\n",
      "prediction : ((\"__label__b'0'\",), array([0.98150927]))    expected : 0\n",
      "prediction : ((\"__label__b'0'\",), array([0.75001514]))    expected : 0\n",
      "prediction : ((\"__label__b'0'\",), array([0.99929881]))    expected : 0\n",
      "prediction : ((\"__label__b'0'\",), array([0.99894911]))    expected : 0\n",
      "prediction : ((\"__label__b'0'\",), array([1.00001001]))    expected : 0\n",
      "prediction : ((\"__label__b'0'\",), array([1.00000477]))    expected : 0\n",
      "prediction : ((\"__label__b'0'\",), array([0.97723174]))    expected : 0\n",
      "prediction : ((\"__label__b'0'\",), array([0.9999814]))    expected : 0\n",
      "prediction : ((\"__label__b'0'\",), array([0.99964333]))    expected : 0\n",
      "prediction : ((\"__label__b'0'\",), array([0.9998728]))    expected : 0\n",
      "prediction : ((\"__label__b'0'\",), array([0.98132426]))    expected : 0\n",
      "prediction : ((\"__label__b'0'\",), array([0.9948383]))    expected : 0\n",
      "prediction : ((\"__label__b'0'\",), array([0.98180115]))    expected : 0\n",
      "prediction : ((\"__label__b'1'\",), array([0.93354696]))    expected : 0\n",
      "prediction : ((\"__label__b'0'\",), array([0.99192792]))    expected : 0\n"
     ]
    }
   ],
   "source": [
    "def predictions(data, model):\n",
    "    '''Takes in a panda dataframe data and a fasttext model, returns a list of predictions'''\n",
    "    preds = []\n",
    "    i = 0\n",
    "    for index, row in data.iterrows():\n",
    "        pred = model.predict(row[\"text\"])\n",
    "        preds.append(pred)\n",
    "        if i < 20 :\n",
    "            print(\"prediction : \" + str(pred) + \"    expected : \" + str(row[\"label\"]))\n",
    "            i+=1\n",
    "    return preds\n",
    "\n",
    "preds = predictions(test_dataset, model)"
   ]
  },
  {
   "cell_type": "code",
   "execution_count": 16,
   "id": "d3f201d3",
   "metadata": {},
   "outputs": [
    {
     "name": "stdout",
     "output_type": "stream",
     "text": [
      "first off let me say if you havent enjoyed a van damme movie since bloodsport you probably will not like this movie most of these movies may not have the best plots or best actors but i enjoy these kinds of movies for what they are this movie is much better than any of the movies the other action guys segal and dolph have thought about putting out the past few years van damme is good in the movie the movie is only worth watching to van damme fans it is not as good as wake of death which i highly recommend to anyone of likes van damme or in hell but in my opinion its worth watching it has the same type of feel to it as nowhere to run good fun stuff\n",
      "\n",
      "ben rupert grint is a deeply unhappy adolescent the son of his unhappily married parents his father nicholas farrell is a vicar and his mother laura linney is  well lets just say shes a somewhat hypocritical soldier in jesus army its only when he takes a summer job as an assistant to a foulmouthed eccentric oncefamous and nowforgotten actress evie walton julie walters that he finally finds himself in true harold and maude fashion of course evie is deeply unhappy herself and its only when these two sad sacks find each other that they can put their mutual misery aside and hit the road to happinessbr br of course its corny and sentimental and very predictable but it has a hard side to it too and walters who could sleepwalk her way through this sort of thing if she wanted is excellent its when she puts the craziness to one side and finds the pathos in the character like hitting the bottle and throwing up in the sink that shes at her best the problem is shes the only interesting character in the film and its not because of the script which doesnt do anybody any favours grint on the other hand isnt just unhappy hes a bit of a bore as well while linneys starched bitch is completely onedimensional still shes got the english accent off pat the best that can be said for it is that its mildly enjoyable  with the emphasis on the mildly\n"
     ]
    }
   ],
   "source": [
    "print(test_dataset.iloc[4][\"text\"] + \"\\n\")\n",
    "print(test_dataset.iloc[18][\"text\"])"
   ]
  },
  {
   "cell_type": "markdown",
   "id": "4ad2a7a0",
   "metadata": {},
   "source": [
    "The reason why the model did not classify well the two examples is because the autors are using negative words in their sentences but to give a good opinion of the movie. For example the first author is using the double negation."
   ]
  },
  {
   "cell_type": "markdown",
   "id": "a98852e7",
   "metadata": {},
   "source": [
    "6. (Bonus point) Why is it likely that the attributes minn and maxn are at 0 after an hyperparameter search on our data ?"
   ]
  },
  {
   "cell_type": "code",
   "execution_count": null,
   "id": "84f63a12",
   "metadata": {},
   "outputs": [],
   "source": []
  }
 ],
 "metadata": {
  "kernelspec": {
   "display_name": "Python 3 (ipykernel)",
   "language": "python",
   "name": "python3"
  },
  "language_info": {
   "codemirror_mode": {
    "name": "ipython",
    "version": 3
   },
   "file_extension": ".py",
   "mimetype": "text/x-python",
   "name": "python",
   "nbconvert_exporter": "python",
   "pygments_lexer": "ipython3",
   "version": "3.9.7"
  }
 },
 "nbformat": 4,
 "nbformat_minor": 5
}
